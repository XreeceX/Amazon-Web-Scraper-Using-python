{
 "cells": [
  {
   "cell_type": "code",
   "execution_count": 2,
   "id": "f236cbb9",
   "metadata": {},
   "outputs": [],
   "source": [
    "# import libraries \n",
    "\n",
    "from bs4 import BeautifulSoup\n",
    "import requests\n",
    "import time\n",
    "import datetime\n",
    "import csv"
   ]
  },
  {
   "cell_type": "code",
   "execution_count": 3,
   "id": "4f021c23",
   "metadata": {},
   "outputs": [
    {
     "name": "stdout",
     "output_type": "stream",
     "text": [
      "2024-06-04\n"
     ]
    }
   ],
   "source": [
    "# Create a Timestamp for your output to track when data was collected\n",
    "\n",
    "import datetime\n",
    "today = datetime.date.today()\n",
    "print(today)\n"
   ]
  },
  {
   "cell_type": "code",
   "execution_count": 4,
   "id": "d07eeb86",
   "metadata": {},
   "outputs": [
    {
     "name": "stdout",
     "output_type": "stream",
     "text": [
      "                                               Title  \\\n",
      "0  Samsung Galaxy S24 5G AI Smartphone (Amber Yel...   \n",
      "\n",
      "                                               Price        Date  \n",
      "0  79,999\\n                                  \\n  ...  2024-06-04  \n"
     ]
    }
   ],
   "source": [
    "import pandas as pd\n",
    "df = pd.read_csv(r'C:\\Users\\reece\\OneDrive\\Desktop\\python\\AmazonWebScraperDataset.csv') #saved data \n",
    "print(df)\n"
   ]
  },
  {
   "cell_type": "code",
   "execution_count": 14,
   "id": "8e95b9e0",
   "metadata": {},
   "outputs": [],
   "source": [
    "#Combine all of the above code into one function\n",
    "#Note:Url/price/title and UserAgent all vary from product to user \n",
    "#find ur user agent: https://httpbin.org/get\n",
    "\n",
    "def check_price():\n",
    "    URL = 'https://www.amazon.in/Samsung-Galaxy-Smartphone-Yellow-Storage/dp/B0CQYGPGPP/ref=sr_1_3?s=electronics&sr=1-3' #example\n",
    "\n",
    "    headers = {\"User-Agent\": \"Mozilla/5.0 (Windows NT 10.0; Win64; x64) AppleWebKit/537.36 (KHTML, like Gecko) Chrome/125.0.0.0 Safari/537.36\", \"Accept-Encoding\":\"gzip, deflate\", \"Accept\":\"text/html,application/xhtml+xml,application/xml;q=0.9,*/*;q=0.8\", \"DNT\":\"1\",\"Connection\":\"close\", \"Upgrade-Insecure-Requests\":\"1\"}\n",
    "\n",
    "    page = requests.get(URL, headers=headers)\n",
    "\n",
    "    soup1 = BeautifulSoup(page.content, \"html.parser\")\n",
    "\n",
    "    soup2 = BeautifulSoup(soup1.prettify(), \"html.parser\")\n",
    "\n",
    "    title = soup2.find(id='productTitle').get_text()\n",
    "\n",
    "    price = soup2.find(class_='a-price-whole').get_text()\n",
    "\n",
    "    price = price.strip()[1:]\n",
    "    title = title.strip()\n",
    "\n",
    "    import datetime\n",
    "\n",
    "    today = datetime.date.today()\n",
    "    \n",
    "    import csv \n",
    "\n",
    "    header = ['Title', 'Price', 'Date']\n",
    "    data = [title, price, today]\n",
    "\n",
    "    with open('AmazonWebScraperDataset.csv', 'a+', newline='', encoding='UTF8') as f:\n",
    "        writer = csv.writer(f)\n",
    "        writer.writerow(data)\n",
    "\n",
    "    if (price<XXX): #price condition\n",
    "        send_mail()\n"
   ]
  },
  {
   "cell_type": "code",
   "execution_count": null,
   "id": "c72f2c4e",
   "metadata": {},
   "outputs": [],
   "source": [
    "# Runs check_price after a set time and inputs data into your CSV\n",
    "\n",
    "while(True):\n",
    "    check_price()\n",
    "    time.sleep(360)"
   ]
  },
  {
   "cell_type": "code",
   "execution_count": 15,
   "id": "d14fce5f",
   "metadata": {},
   "outputs": [],
   "source": [
    "import smtplib\n",
    "import ssl\n",
    "from email.message import EmailMessage\n",
    "\n",
    "def send_mail():\n",
    "    # Define email sender and receiver\n",
    "    sender = 'xxxx'\n",
    "    password = 'xxxx'\n",
    "    receiver = 'xxxx'\n",
    "\n",
    "    # Set the subject and body of the email\n",
    "    subject = 'Product Price Checker'\n",
    "    body = \"\"\"\n",
    "    It finally reduced: https://www.amazon.in/Samsung-Galaxy-Smartphone-Yellow-Storage/dp/B0CQYGPGPP/ref=sr_1_3?s=electronics&sr=1-3\n",
    "    \"\"\"\n",
    "\n",
    "    em = EmailMessage()\n",
    "    em['From'] = sender\n",
    "    em['To'] = receiver\n",
    "    em['Subject'] = subject\n",
    "    em.set_content(body)\n",
    "\n",
    "    # Add SSL (layer of security)\n",
    "    context = ssl.create_default_context()\n",
    "\n",
    "    # Log in and send the email\n",
    "    with smtplib.SMTP_SSL('smtp.gmail.com', 587, context=context) as smtp:\n",
    "        smtp.login(sender, password)\n",
    "        smtp.sendmail(sender, receiver, em.as_string())"
   ]
  }
 ],
 "metadata": {
  "kernelspec": {
   "display_name": "Python 3",
   "language": "python",
   "name": "python3"
  },
  "language_info": {
   "codemirror_mode": {
    "name": "ipython",
    "version": 3
   },
   "file_extension": ".py",
   "mimetype": "text/x-python",
   "name": "python",
   "nbconvert_exporter": "python",
   "pygments_lexer": "ipython3",
   "version": "3.11.3"
  }
 },
 "nbformat": 4,
 "nbformat_minor": 5
}
